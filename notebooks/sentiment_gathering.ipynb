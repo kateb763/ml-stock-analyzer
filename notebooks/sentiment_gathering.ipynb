{
 "cells": [
  {
   "cell_type": "code",
   "execution_count": 8,
   "id": "282ca5b1",
   "metadata": {},
   "outputs": [
    {
     "name": "stdout",
     "output_type": "stream",
     "text": [
      "Date: 2025-01-01 07:17:28\n",
      "Headline: Apple Inc. (AAPL): Wedbush Sets Street-High $325 Target, Citing AI-Driven iPhone Upgrade Cycle and New Revenue Streams\n",
      "---\n",
      "Date: 2025-01-01 04:21:00\n",
      "Headline: Where Will Shopify Be in 3 Years?\n",
      "---\n",
      "Date: 2025-01-01 04:06:00\n",
      "Headline: 10 Stock Market Predictions for 2025\n",
      "---\n",
      "Date: 2025-01-01 02:15:00\n",
      "Headline: The Peak\n",
      "---\n",
      "Date: 2024-12-31 23:00:00\n",
      "Headline: Nvidia Should Win Again in 2025. Here’s Why.\n",
      "---\n"
     ]
    }
   ],
   "source": [
    "import finnhub\n",
    "import pandas as pd\n",
    "from datetime import datetime\n",
    "\n",
    "# Setup client\n",
    "api_key = 'd0no8rhr01qn5ghl0h8gd0no8rhr01qn5ghl0h90'\n",
    "client = finnhub.Client(api_key=api_key)\n",
    "\n",
    "# Define the stock symbol\n",
    "symbol = 'AAPL'\n",
    "\n",
    "# Fetch company news for the specified date range\n",
    "news = client.company_news(symbol, _from='2024-01-01', to='2025-01-01')\n",
    "\n",
    "# Extract and print first 5 headlines + readable dates\n",
    "for article in news[:5]:\n",
    "    dt = datetime.fromtimestamp(article['datetime']).strftime('%Y-%m-%d %H:%M:%S')\n",
    "    print(f\"Date: {dt}\")\n",
    "    print(f\"Headline: {article['headline']}\")\n",
    "    print('---')\n",
    "\n"
   ]
  }
 ],
 "metadata": {
  "kernelspec": {
   "display_name": "Python 3",
   "language": "python",
   "name": "python3"
  },
  "language_info": {
   "codemirror_mode": {
    "name": "ipython",
    "version": 3
   },
   "file_extension": ".py",
   "mimetype": "text/x-python",
   "name": "python",
   "nbconvert_exporter": "python",
   "pygments_lexer": "ipython3",
   "version": "3.11.5"
  }
 },
 "nbformat": 4,
 "nbformat_minor": 5
}
